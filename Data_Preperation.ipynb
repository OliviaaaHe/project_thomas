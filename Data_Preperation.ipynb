{
 "cells": [
  {
   "cell_type": "markdown",
   "metadata": {},
   "source": [
    "## Preapare all the files and that are needed:"
   ]
  },
  {
   "cell_type": "code",
   "execution_count": 16,
   "metadata": {},
   "outputs": [],
   "source": [
    "import pandas as pd\n",
    "\n",
    "# Store the area data:\n",
    "df_area = pd.DataFrame(columns = ['area_number', 'start_lng', 'start_lat', 'end_lng', 'end_lat', 'status', 'time'])\n",
    "df_area.to_csv('Data/Area_Info.csv', index = False, encoding = 'utf-8-sig')\n",
    "\n",
    "# Store the raw data from Gaode API\n",
    "df_raw_data = pd.DataFrame(columns = ['name','start_lng','start_lat','end_lng','end_lat','coords','dir','angle','status','speed','time'])\n",
    "df_raw_data.to_csv('Raw_Data/Api_Return_Data.csv', index = False, encoding = 'utf-8-sig')\n",
    "\n",
    "# Store the optimized road oriented data\n",
    "df_opt = pd.DataFrame(columns = ['name','start_lng','start_lat','end_lng','end_lat','coords','dir','angle','status','speed','time'])\n",
    "df_opt.to_csv('Data/Road_Ori_Traffic_Data.csv', index = False, encoding = 'utf-8-sig')\n",
    "\n",
    "# Store the coord oriented data\n",
    "df_coords = pd.DataFrame(columns=['lng', 'lat', 'road_name', 'status', 'angle'])\n",
    "df_coords.to_csv('Data/Coords_Ori_Traffic_Data.csv', index = False, encoding = 'utf-8-sig')"
   ]
  }
 ],
 "metadata": {
  "kernelspec": {
   "display_name": "Python 3",
   "language": "python",
   "name": "python3"
  },
  "language_info": {
   "codemirror_mode": {
    "name": "ipython",
    "version": 3
   },
   "file_extension": ".py",
   "mimetype": "text/x-python",
   "name": "python",
   "nbconvert_exporter": "python",
   "pygments_lexer": "ipython3",
   "version": "3.6.1"
  }
 },
 "nbformat": 4,
 "nbformat_minor": 2
}
