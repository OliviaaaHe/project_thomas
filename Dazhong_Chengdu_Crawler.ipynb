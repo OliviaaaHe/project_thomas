{
 "cells": [
  {
   "cell_type": "markdown",
   "metadata": {},
   "source": [
    "#### Python Chengdu Crawler For Dianping Shops Data"
   ]
  },
  {
   "cell_type": "code",
   "execution_count": 2,
   "metadata": {},
   "outputs": [],
   "source": [
    "import pandas as pd\n",
    "import numpy as np\n",
    "import requests\n",
    "import json\n",
    "from selenium import webdriver\n",
    "import time\n",
    "from bs4 import BeautifulSoup\n",
    "# Silence\n",
    "from selenium.webdriver.chrome.webdriver import RemoteWebDriver # 从selenium库中调用RemoteWebDriver模块\n",
    "# Thiss modulo is used to modify setting of chrome driver\n",
    "from selenium.webdriver.chrome.options import Options # 从options模块中调用Options类"
   ]
  },
  {
   "cell_type": "code",
   "execution_count": 3,
   "metadata": {},
   "outputs": [],
   "source": [
    "# The following three lines set the silence mode of chrome\n",
    "# chrome_options = Options()\n",
    "# chrome_options.add_argument('--headless')\n",
    "# chrome_options.add_argument('--disable-gpu')"
   ]
  },
  {
   "cell_type": "code",
   "execution_count": 12,
   "metadata": {},
   "outputs": [],
   "source": [
    "# Open chrome\n",
    "# driver = webdriver.Chrome(chrome_options=chrome_options)\n",
    "driver = webdriver.Chrome()\n",
    "# Open a website\n",
    "driver.get('https://www.dianping.com/') \n",
    "time.sleep(2)"
   ]
  },
  {
   "cell_type": "code",
   "execution_count": 13,
   "metadata": {
    "scrolled": true
   },
   "outputs": [
    {
     "name": "stdout",
     "output_type": "stream",
     "text": [
      "['CDwindow-41264BF5C054D66733E0911B1FF8C1EE', 'CDwindow-D54E3156BD1E1204EFB377F2CD5885D7']\n"
     ]
    }
   ],
   "source": [
    "# Search on the front page\n",
    "search_form = driver.find_element_by_id('J-search-input')\n",
    "search_button = driver.find_element_by_class_name('J-search-btn')\n",
    "search_form.send_keys('北京')\n",
    "search_button.click()\n",
    "time.sleep(2)\n",
    "handle_list = driver.window_handles\n",
    "print(handle_list)"
   ]
  },
  {
   "cell_type": "code",
   "execution_count": null,
   "metadata": {},
   "outputs": [],
   "source": [
    "# Loop Through the 50 pages\n",
    "counter = 0\n",
    "while True:\n",
    "    try:\n",
    "        next_button = driver.find_element_by_css_selector('a.next')\n",
    "        counter += 1\n",
    "        print('go next')\n",
    "        sleep(1)\n",
    "    # handle when non exist\n",
    "    except:\n",
    "        print('iterate through all '+ str(counter) + ' pages.')\n",
    "        break"
   ]
  },
  {
   "cell_type": "code",
   "execution_count": 14,
   "metadata": {},
   "outputs": [],
   "source": [
    "# Close the driver\n",
    "for handle in handle_list:\n",
    "    driver.switch_to.window(handle)\n",
    "    driver.close()"
   ]
  }
 ],
 "metadata": {
  "kernelspec": {
   "display_name": "Python 3",
   "language": "python",
   "name": "python3"
  },
  "language_info": {
   "codemirror_mode": {
    "name": "ipython",
    "version": 3
   },
   "file_extension": ".py",
   "mimetype": "text/x-python",
   "name": "python",
   "nbconvert_exporter": "python",
   "pygments_lexer": "ipython3",
   "version": "3.6.1"
  }
 },
 "nbformat": 4,
 "nbformat_minor": 2
}
