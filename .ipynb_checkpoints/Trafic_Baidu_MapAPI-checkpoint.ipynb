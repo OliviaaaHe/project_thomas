{
 "cells": [
  {
   "cell_type": "code",
   "execution_count": 56,
   "metadata": {},
   "outputs": [],
   "source": [
    "import pandas as pd\n",
    "import numpy as np\n",
    "import requests\n",
    "import json\n",
    "from selenium import webdriver\n",
    "import time\n",
    "from time import gmtime\n",
    "from time import strftime\n",
    "import random\n",
    "from bs4 import BeautifulSoup\n",
    "import datetime"
   ]
  },
  {
   "cell_type": "code",
   "execution_count": 52,
   "metadata": {},
   "outputs": [],
   "source": [
    "# Store trafic status and time\n",
    "times = []\n",
    "status = []\n",
    "status_desc = []\n",
    "roads = []"
   ]
  },
  {
   "cell_type": "code",
   "execution_count": 37,
   "metadata": {},
   "outputs": [],
   "source": [
    "df_road = pd.read_csv('Chengdu_Road_Name.csv')"
   ]
  },
  {
   "cell_type": "code",
   "execution_count": null,
   "metadata": {},
   "outputs": [],
   "source": [
    "\n",
    "data = 0\n",
    "\n",
    "for road in df_road['road_name']:\n",
    "    print(len(road))\n",
    "    data = requests.get('http://api.map.baidu.com/traffic/v1/road?road_name=' + str(road) + '&city=成都市&ak=BYhLQdaTxwcorQ1d16WNzuVGxzUWfN0G')\n",
    "    \n",
    "    data_json = data.json()\n",
    "    try:\n",
    "        status.append(data_json['evaluation']['status'])\n",
    "        status_desc.append(data_json['evaluation']['status_desc'])\n",
    "        times.append(strftime(\"%Y-%m-%d %H:%M:%S\", gmtime()))\n",
    "    except:\n",
    "        print('road: ' + str(road) + ' not found')\n",
    "    \n",
    "    time.sleep(random.randint(0,2))\n",
    "\n",
    "\n",
    "\n"
   ]
  },
  {
   "cell_type": "code",
   "execution_count": 74,
   "metadata": {},
   "outputs": [
    {
     "name": "stdout",
     "output_type": "stream",
     "text": [
      "465\n"
     ]
    }
   ],
   "source": [
    "len(times)\n",
    "print(len(status))\n",
    "\n",
    "\n",
    "# Store in dataframe\n",
    "df_trafic = pd.DataFrame({'road_name' : df_road['road_name'][0],\n",
    "                        'status' : status,\n",
    "                        'status_desc' : status_desc,\n",
    "                         })\n",
    "df_trafic.to_csv('trafic_data.csv', encoding='utf-8-sig')"
   ]
  },
  {
   "cell_type": "code",
   "execution_count": null,
   "metadata": {},
   "outputs": [],
   "source": []
  },
  {
   "cell_type": "code",
   "execution_count": null,
   "metadata": {},
   "outputs": [],
   "source": []
  }
 ],
 "metadata": {
  "kernelspec": {
   "display_name": "Python 3",
   "language": "python",
   "name": "python3"
  },
  "language_info": {
   "codemirror_mode": {
    "name": "ipython",
    "version": 3
   },
   "file_extension": ".py",
   "mimetype": "text/x-python",
   "name": "python",
   "nbconvert_exporter": "python",
   "pygments_lexer": "ipython3",
   "version": "3.6.1"
  }
 },
 "nbformat": 4,
 "nbformat_minor": 2
}
