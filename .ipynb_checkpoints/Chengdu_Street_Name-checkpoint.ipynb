{
 "cells": [
  {
   "cell_type": "code",
   "execution_count": 2,
   "metadata": {},
   "outputs": [],
   "source": [
    "import pandas as pd\n",
    "import numpy as np\n",
    "import requests\n",
    "import json\n",
    "from selenium import webdriver\n",
    "import time\n",
    "from bs4 import BeautifulSoup"
   ]
  },
  {
   "cell_type": "code",
   "execution_count": null,
   "metadata": {},
   "outputs": [],
   "source": []
  },
  {
   "cell_type": "code",
   "execution_count": 79,
   "metadata": {},
   "outputs": [],
   "source": [
    "# Store the road names in this array\n",
    "road_name = []\n",
    "driver = webdriver.Chrome()\n",
    "# Open a website\n",
    "driver.get('http://cd.city8.com/road/A/') \n",
    "time.sleep(2)"
   ]
  },
  {
   "cell_type": "code",
   "execution_count": 80,
   "metadata": {},
   "outputs": [
    {
     "name": "stdout",
     "output_type": "stream",
     "text": [
      "1\n"
     ]
    }
   ],
   "source": [
    "# Get the A-Z field\n",
    "init_buttons = driver.find_elements_by_class_name('lette_test')\n",
    "print(len(init_buttons))"
   ]
  },
  {
   "cell_type": "code",
   "execution_count": 81,
   "metadata": {},
   "outputs": [],
   "source": [
    "alph = []\n",
    "for i in range(65, 65+26):\n",
    "    alph.append(chr(i))"
   ]
  },
  {
   "cell_type": "code",
   "execution_count": 78,
   "metadata": {},
   "outputs": [],
   "source": [
    "def get_street_name(dataset, letter):\n",
    "    page = requests.get('http://cd.city8.com/road/' + str(letter) + '/')\n",
    "    soup = BeautifulSoup(page.text)\n",
    "    road_div = soup.find('div', class_ = 'road_zm_list')\n",
    "    road_list = road_div.find_all('a')\n",
    "    for road in road_list:\n",
    "        road_arr = list(road.text.replace(' ',''))\n",
    "        road_name = ''.join(road_arr)\n",
    "        dataset.append(road_name)"
   ]
  },
  {
   "cell_type": "code",
   "execution_count": 82,
   "metadata": {},
   "outputs": [],
   "source": [
    "for letter in alph:\n",
    "    get_street_name(road_name, letter)"
   ]
  },
  {
   "cell_type": "code",
   "execution_count": 83,
   "metadata": {},
   "outputs": [],
   "source": [
    "df = pd.DataFrame({'road_name' : road_name})\n",
    "df.to_csv('Chengdu_Road_Name.csv', encoding = 'utf-8-sig')\n",
    "driver.close()"
   ]
  }
 ],
 "metadata": {
  "kernelspec": {
   "display_name": "Python 3",
   "language": "python",
   "name": "python3"
  },
  "language_info": {
   "codemirror_mode": {
    "name": "ipython",
    "version": 3
   },
   "file_extension": ".py",
   "mimetype": "text/x-python",
   "name": "python",
   "nbconvert_exporter": "python",
   "pygments_lexer": "ipython3",
   "version": "3.6.1"
  }
 },
 "nbformat": 4,
 "nbformat_minor": 2
}
