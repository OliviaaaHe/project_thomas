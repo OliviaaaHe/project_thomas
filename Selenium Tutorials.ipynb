{
 "cells": [
  {
   "cell_type": "code",
   "execution_count": 3,
   "metadata": {},
   "outputs": [],
   "source": [
    "from selenium import webdriver\n",
    "from selenium.webdriver.common.keys import Keys\n",
    "from selenium.webdriver.common.by import By\n",
    "import time"
   ]
  },
  {
   "cell_type": "code",
   "execution_count": 4,
   "metadata": {},
   "outputs": [
    {
     "name": "stdout",
     "output_type": "stream",
     "text": [
      "百度一下，你就知道\n",
      "Modernizr: the feature detection library for HTML5/CSS3\n",
      "Context switched to Twitter, so the title did not match\n",
      "Context returned to parent window. Title now match\n",
      "百度一下，你就知道\n"
     ]
    }
   ],
   "source": [
    "#open the first window\n",
    "driver = webdriver.Chrome()\n",
    "driver.maximize_window()\n",
    "driver.get(\"https://www.baidu.com/\")\n",
    "\n",
    "#get the window handle after the window has opened\n",
    "window_before = driver.window_handles[0]\n",
    "\n",
    "window_before_title = driver.title\n",
    "print(window_before_title)\n",
    "\n",
    "#open a new window\n",
    "driver.execute_script(\"window.open('https://modernizr.com/', 'new window')\")\n",
    "\n",
    "#get the window handle after a new window has opened\n",
    "window_after = driver.window_handles[1]\n",
    "\n",
    "#switch on to new child window\n",
    "driver.switch_to.window(window_after)\n",
    "time.sleep(10)\n",
    "\n",
    "window_after_title = driver.title\n",
    "print(window_after_title)\n",
    "\n",
    "#Compare and verify that main window and child window title don't match\n",
    "if window_before_title != window_after_title:\n",
    "    print('Context switched to Twitter, so the title did not match')\n",
    "else:\n",
    "    print('Control did not switch to new window')\n",
    "\n",
    "#switch back to original window\n",
    "driver.switch_to.window(window_before)\n",
    "\n",
    "#Verify that the title now match\n",
    "if window_before_title == driver.title:\n",
    "    print('Context returned to parent window. Title now match')\n",
    "\n",
    "print(driver.title)"
   ]
  }
 ],
 "metadata": {
  "kernelspec": {
   "display_name": "Python 3",
   "language": "python",
   "name": "python3"
  },
  "language_info": {
   "codemirror_mode": {
    "name": "ipython",
    "version": 3
   },
   "file_extension": ".py",
   "mimetype": "text/x-python",
   "name": "python",
   "nbconvert_exporter": "python",
   "pygments_lexer": "ipython3",
   "version": "3.6.1"
  }
 },
 "nbformat": 4,
 "nbformat_minor": 2
}
