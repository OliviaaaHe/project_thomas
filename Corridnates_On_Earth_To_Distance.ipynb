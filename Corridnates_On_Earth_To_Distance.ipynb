{
 "cells": [
  {
   "cell_type": "markdown",
   "metadata": {},
   "source": [
    "### According to Longitudes and Latitudes To Derive the Distance Between to points"
   ]
  },
  {
   "cell_type": "code",
   "execution_count": 4,
   "metadata": {},
   "outputs": [],
   "source": [
    "from math import radians, cos, sin, asin, sqrt, degrees\n",
    "import numpy"
   ]
  },
  {
   "cell_type": "code",
   "execution_count": 7,
   "metadata": {},
   "outputs": [],
   "source": [
    "R = 6371 * 1000\n",
    "\n",
    "# coord = (lng, lat)\n",
    "# return km\n",
    "def geo_distance(coord_0,coord_1):\n",
    "    #lng1,lat1,lng2,lat2 = (120.12802999999997,30.28708,115.86572000000001,28.7427)\n",
    "    lng_0, lat_0, lng_1, lat_1 = map(radians, [float(coord_0[0]), float(coord_0[1]), float(coord_1[0]), float(coord_1[1])]) # 经纬度转换成弧度\n",
    "    dlng = lng_1 - lng_0\n",
    "    dlat = lat_1 - lat_0\n",
    "    a = sin(dlat/2)**2 + cos(lat_0) * cos(lat_1) * sin(dlng/2)**2 \n",
    "    distance = 2 * asin(sqrt(a)) * R # 地球平均半径，6371km\n",
    "    distance = round(distance/1000,100)\n",
    "    return distance"
   ]
  },
  {
   "cell_type": "code",
   "execution_count": 8,
   "metadata": {},
   "outputs": [
    {
     "data": {
      "text/plain": [
       "0.05119025224733504"
      ]
     },
     "execution_count": 8,
     "metadata": {},
     "output_type": "execute_result"
    }
   ],
   "source": [
    "coord_0 = (103.679863,30.9504356)\n",
    "coord_1 = (103.679482,30.9507599)\n",
    "\n",
    "geo_distance(coord_0, coord_1)"
   ]
  },
  {
   "cell_type": "markdown",
   "metadata": {},
   "source": [
    "##### Change Longitude Formula\n",
    "(sin(dist)/(2R))^2 = a\n",
    "sqrt(a - sin(dlat/2)^2 / cos(lat_0)^2) = sin(dlng / 2)\n",
    "\n",
    "##### Change Latitude Formula\n",
    "(sin(dist)/(2R))^2 = a\n",
    "a = sin(dlat/2)^2\n",
    "dlat = asin( sqrt(a) ）"
   ]
  },
  {
   "cell_type": "code",
   "execution_count": 80,
   "metadata": {},
   "outputs": [],
   "source": [
    "# dist = distance bettwen to points\n",
    "# coord_0 = (lng_0, lat_0)\n",
    "# return = coord_1\n",
    "def lng_coord(dist, coord_0):\n",
    "    lng_0, lat_0 = map(radians, [float(coord_0[0]), float(coord_0[1])])\n",
    "    dist = dist * 1000\n",
    "    a = sin(dist / (2*R))**2\n",
    "    dlng = asin( sqrt( a / cos(lat_0)**2 ) ) * 2\n",
    "    # Convert from radians to carticien \n",
    "    dlng = round( degrees(dlng), 100 )\n",
    "    coord_1 = (coord_0[0] + dlng, coord_0[1])\n",
    "    return coord_1\n",
    "\n",
    "\n",
    "def lat_coord(dist, coord_0):\n",
    "    lng_0, lat_0 = map(radians, [float(coord_0[0]), float(coord_0[1])])\n",
    "    dist = dist * 1000\n",
    "    a = sin(dist / (2*R))**2\n",
    "    dlat = asin( sqrt(a) ) * 2\n",
    "    # Convert from radians to carticien \n",
    "    dlat = round (degrees(dlat), 100)\n",
    "    coord_1 = (coord_0[0], coord_0[1] + dlat)\n",
    "    return coord_1\n",
    "                "
   ]
  },
  {
   "cell_type": "code",
   "execution_count": 92,
   "metadata": {},
   "outputs": [
    {
     "name": "stdout",
     "output_type": "stream",
     "text": [
      "204\n",
      "119\n",
      "84\n"
     ]
    }
   ],
   "source": [
    "print(12 * 17)\n",
    "print(17 * 7)\n",
    "print(12 * 7)\n",
    "(103.488, 31.058)"
   ]
  },
  {
   "cell_type": "code",
   "execution_count": 96,
   "metadata": {
    "scrolled": true
   },
   "outputs": [
    {
     "data": {
      "text/plain": [
       "555.9746332227937"
      ]
     },
     "execution_count": 96,
     "metadata": {},
     "output_type": "execute_result"
    }
   ],
   "source": [
    "coord_0 = (120,30)\n",
    "coord_1 = (120,35)\n",
    "geo_distance(coord_0, coord_1)"
   ]
  },
  {
   "cell_type": "code",
   "execution_count": 97,
   "metadata": {},
   "outputs": [
    {
     "data": {
      "text/plain": [
       "(120, 35.0)"
      ]
     },
     "execution_count": 97,
     "metadata": {},
     "output_type": "execute_result"
    }
   ],
   "source": [
    "lng_coord(481.4499400851361, coord_0)\n",
    "lat_coord(555.9746332227937, coord_0)"
   ]
  }
 ],
 "metadata": {
  "kernelspec": {
   "display_name": "Python 3",
   "language": "python",
   "name": "python3"
  },
  "language_info": {
   "codemirror_mode": {
    "name": "ipython",
    "version": 3
   },
   "file_extension": ".py",
   "mimetype": "text/x-python",
   "name": "python",
   "nbconvert_exporter": "python",
   "pygments_lexer": "ipython3",
   "version": "3.6.1"
  }
 },
 "nbformat": 4,
 "nbformat_minor": 2
}
