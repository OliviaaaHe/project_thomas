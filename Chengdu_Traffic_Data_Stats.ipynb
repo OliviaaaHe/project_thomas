{
 "cells": [
  {
   "cell_type": "markdown",
   "metadata": {},
   "source": [
    "# Chengdu Traffic Data Spider From Gaode API"
   ]
  },
  {
   "cell_type": "markdown",
   "metadata": {},
   "source": [
    "### File Storage directories:\n",
    "- area data : `Data/Area_Info.csv`\n",
    "- raw data : `Raw_Data/Api_Return_Data.csv`\n",
    "- road ori data : `Data/Road_Ori_Traffic_Data.csv`\n",
    "- coords ori data : `Data/Coords_Ori_Traffic_Data.csv`"
   ]
  },
  {
   "cell_type": "code",
   "execution_count": 27,
   "metadata": {},
   "outputs": [],
   "source": [
    "# imports for system basis\n",
    "import datetime\n",
    "import csv\n",
    "import sys\n",
    "from math import radians, cos, sin, asin, sqrt, degrees\n",
    "import time\n",
    "from time import gmtime\n",
    "from time import strftime\n",
    "import random\n",
    "import threading\n",
    "\n",
    "# imports for web cralwers\n",
    "import requests\n",
    "from selenium import webdriver\n",
    "import requests\n",
    "from bs4 import BeautifulSoup\n",
    "\n",
    "# imports for data proccessing\n",
    "import numpy as np\n",
    "import pandas as pd\n",
    "import json"
   ]
  },
  {
   "cell_type": "markdown",
   "metadata": {},
   "source": [
    "#### Change Longitude and Latitude Functions\n",
    "inputs:\n",
    "        `dist = distance bettwen to points, coord_0 = (lng_0, lat_0)`\n",
    "\n",
    "outputs:\n",
    "        `coord_1 = (lng_1, lat_1)`"
   ]
  },
  {
   "cell_type": "code",
   "execution_count": 28,
   "metadata": {},
   "outputs": [],
   "source": [
    "# Radius of Earth\n",
    "R = 6371 * 1000\n",
    "# dist = distance bettwen to points\n",
    "# coord_0 = (lng_0, lat_0)\n",
    "# return = coord_1\n",
    "def lng_coord(dist, coord_0):\n",
    "    lng_0, lat_0 = map(radians, [float(coord_0[0]), float(coord_0[1])])\n",
    "    dist = dist * 1000\n",
    "    a = sin(dist / (2*R))**2\n",
    "    dlng = asin( sqrt( a / cos(lat_0)**2 ) ) * 2\n",
    "    # Convert from radians to carticien \n",
    "    dlng = round(degrees(dlng), 3)\n",
    "    coord_1 = (coord_0[0] + dlng, coord_0[1])\n",
    "    return coord_1\n",
    "\n",
    "\n",
    "def lat_coord(dist, coord_0):\n",
    "    lng_0, lat_0 = map(radians, [float(coord_0[0]), float(coord_0[1])])\n",
    "    dist = dist * 1000\n",
    "    a = sin(dist / (2*R))**2\n",
    "    dlat = asin( sqrt(a) ) * 2\n",
    "    # Convert from radians to carticien \n",
    "    dlat = round (degrees(dlat), 3)\n",
    "    coord_1 = (coord_0[0], coord_0[1] - dlat)\n",
    "    return coord_1"
   ]
  },
  {
   "cell_type": "markdown",
   "metadata": {},
   "source": [
    "### Divides Chengdu as Different Cells\n",
    "chengdu's total area is aproximates to 1.4w km^2, however, the center area (those worth to Investigate) is about 17(7km) * 12(7km) = 204 cells to be the input to gaode for road traffic data.\n",
    "\n",
    "The start coord is (103.488，31.058)."
   ]
  },
  {
   "cell_type": "markdown",
   "metadata": {},
   "source": [
    "- Extract road\n",
    "`print(res[0]['trafficinfo']['roads'][0]['name'])`\n",
    "- Extract sstart and end points of a road\n",
    "`print(res[0]['trafficinfo']['roads'][0]['polyline'][:21])`\n",
    "`print(res[0]['trafficinfo']['roads'][0]['polyline'][-21:])`\n",
    "- Extract direction\n",
    "`print(res[0]['trafficinfo']['roads'][0]['direction'])`\n",
    "- Extract direaction\n",
    "`print(res[0]['trafficinfo']['roads'][0]['angle'])`\n",
    "- Flow amount\n",
    "`print(res[0]['trafficinfo']['roads'][0]['status'])`\n",
    "- Speed\n",
    "`print(res[0]['trafficinfo']['roads'][0]['speed'])`"
   ]
  },
  {
   "cell_type": "code",
   "execution_count": 29,
   "metadata": {},
   "outputs": [
    {
     "name": "stdout",
     "output_type": "stream",
     "text": [
      "103.488,31.058;103.56099999999999,30.995\n"
     ]
    }
   ],
   "source": [
    "# Store all the coordinates of the vertices of points to search\n",
    "coords =[[(103.488, 31.058)]]\n",
    "\n",
    "coords[0][0][1]\n",
    "\n",
    "# Change of rows (langitude)\n",
    "for i in range(14):\n",
    "    # Change of columns (latitude)\n",
    "    for j in range(17):\n",
    "        coords_right = lat_coord(7.0, coords[i][j])\n",
    "        coords[i].append(coords_right)\n",
    "    if i == 13:\n",
    "        break\n",
    "    coords_down = lng_coord(7.0, coords[i][0])\n",
    "    coords.append([coords_down])\n",
    "url_param = str(coords[0][0][0]) + ',' + str(coords[0][0][1]) + ';' + str(coords[0+1][0+1][0]) + ',' + str(coords[0+1][0+1][1])\n",
    "print(url_param)\n"
   ]
  },
  {
   "cell_type": "markdown",
   "metadata": {},
   "source": [
    "#### Request Data From Gaode API"
   ]
  },
  {
   "cell_type": "code",
   "execution_count": 46,
   "metadata": {},
   "outputs": [
    {
     "name": "stdout",
     "output_type": "stream",
     "text": [
      "attempts: 0\r"
     ]
    },
    {
     "ename": "ConnectionError",
     "evalue": "HTTPSConnectionPool(host='restapi.amap.com', port=443): Max retries exceeded with url: /v3/traffic/status/rectangle?key=634048389d7229b18f1cf1973378d207&rectangle=103.488,31.058;103.56099999999999,30.995&extensions=all (Caused by NewConnectionError('<urllib3.connection.VerifiedHTTPSConnection object at 0x1152fe208>: Failed to establish a new connection: [Errno 8] nodename nor servname provided, or not known',))",
     "output_type": "error",
     "traceback": [
      "\u001b[0;31m---------------------------------------------------------------------------\u001b[0m",
      "\u001b[0;31mgaierror\u001b[0m                                  Traceback (most recent call last)",
      "\u001b[0;32m/Library/Frameworks/Python.framework/Versions/3.6/lib/python3.6/site-packages/urllib3/connection.py\u001b[0m in \u001b[0;36m_new_conn\u001b[0;34m(self)\u001b[0m\n\u001b[1;32m    159\u001b[0m             conn = connection.create_connection(\n\u001b[0;32m--> 160\u001b[0;31m                 (self._dns_host, self.port), self.timeout, **extra_kw)\n\u001b[0m\u001b[1;32m    161\u001b[0m \u001b[0;34m\u001b[0m\u001b[0m\n",
      "\u001b[0;32m/Library/Frameworks/Python.framework/Versions/3.6/lib/python3.6/site-packages/urllib3/util/connection.py\u001b[0m in \u001b[0;36mcreate_connection\u001b[0;34m(address, timeout, source_address, socket_options)\u001b[0m\n\u001b[1;32m     56\u001b[0m \u001b[0;34m\u001b[0m\u001b[0m\n\u001b[0;32m---> 57\u001b[0;31m     \u001b[0;32mfor\u001b[0m \u001b[0mres\u001b[0m \u001b[0;32min\u001b[0m \u001b[0msocket\u001b[0m\u001b[0;34m.\u001b[0m\u001b[0mgetaddrinfo\u001b[0m\u001b[0;34m(\u001b[0m\u001b[0mhost\u001b[0m\u001b[0;34m,\u001b[0m \u001b[0mport\u001b[0m\u001b[0;34m,\u001b[0m \u001b[0mfamily\u001b[0m\u001b[0;34m,\u001b[0m \u001b[0msocket\u001b[0m\u001b[0;34m.\u001b[0m\u001b[0mSOCK_STREAM\u001b[0m\u001b[0;34m)\u001b[0m\u001b[0;34m:\u001b[0m\u001b[0;34m\u001b[0m\u001b[0m\n\u001b[0m\u001b[1;32m     58\u001b[0m         \u001b[0maf\u001b[0m\u001b[0;34m,\u001b[0m \u001b[0msocktype\u001b[0m\u001b[0;34m,\u001b[0m \u001b[0mproto\u001b[0m\u001b[0;34m,\u001b[0m \u001b[0mcanonname\u001b[0m\u001b[0;34m,\u001b[0m \u001b[0msa\u001b[0m \u001b[0;34m=\u001b[0m \u001b[0mres\u001b[0m\u001b[0;34m\u001b[0m\u001b[0m\n",
      "\u001b[0;32m/Library/Frameworks/Python.framework/Versions/3.6/lib/python3.6/socket.py\u001b[0m in \u001b[0;36mgetaddrinfo\u001b[0;34m(host, port, family, type, proto, flags)\u001b[0m\n\u001b[1;32m    742\u001b[0m     \u001b[0maddrlist\u001b[0m \u001b[0;34m=\u001b[0m \u001b[0;34m[\u001b[0m\u001b[0;34m]\u001b[0m\u001b[0;34m\u001b[0m\u001b[0m\n\u001b[0;32m--> 743\u001b[0;31m     \u001b[0;32mfor\u001b[0m \u001b[0mres\u001b[0m \u001b[0;32min\u001b[0m \u001b[0m_socket\u001b[0m\u001b[0;34m.\u001b[0m\u001b[0mgetaddrinfo\u001b[0m\u001b[0;34m(\u001b[0m\u001b[0mhost\u001b[0m\u001b[0;34m,\u001b[0m \u001b[0mport\u001b[0m\u001b[0;34m,\u001b[0m \u001b[0mfamily\u001b[0m\u001b[0;34m,\u001b[0m \u001b[0mtype\u001b[0m\u001b[0;34m,\u001b[0m \u001b[0mproto\u001b[0m\u001b[0;34m,\u001b[0m \u001b[0mflags\u001b[0m\u001b[0;34m)\u001b[0m\u001b[0;34m:\u001b[0m\u001b[0;34m\u001b[0m\u001b[0m\n\u001b[0m\u001b[1;32m    744\u001b[0m         \u001b[0maf\u001b[0m\u001b[0;34m,\u001b[0m \u001b[0msocktype\u001b[0m\u001b[0;34m,\u001b[0m \u001b[0mproto\u001b[0m\u001b[0;34m,\u001b[0m \u001b[0mcanonname\u001b[0m\u001b[0;34m,\u001b[0m \u001b[0msa\u001b[0m \u001b[0;34m=\u001b[0m \u001b[0mres\u001b[0m\u001b[0;34m\u001b[0m\u001b[0m\n",
      "\u001b[0;31mgaierror\u001b[0m: [Errno 8] nodename nor servname provided, or not known",
      "\nDuring handling of the above exception, another exception occurred:\n",
      "\u001b[0;31mNewConnectionError\u001b[0m                        Traceback (most recent call last)",
      "\u001b[0;32m/Library/Frameworks/Python.framework/Versions/3.6/lib/python3.6/site-packages/urllib3/connectionpool.py\u001b[0m in \u001b[0;36murlopen\u001b[0;34m(self, method, url, body, headers, retries, redirect, assert_same_host, timeout, pool_timeout, release_conn, chunked, body_pos, **response_kw)\u001b[0m\n\u001b[1;32m    602\u001b[0m                                                   \u001b[0mbody\u001b[0m\u001b[0;34m=\u001b[0m\u001b[0mbody\u001b[0m\u001b[0;34m,\u001b[0m \u001b[0mheaders\u001b[0m\u001b[0;34m=\u001b[0m\u001b[0mheaders\u001b[0m\u001b[0;34m,\u001b[0m\u001b[0;34m\u001b[0m\u001b[0m\n\u001b[0;32m--> 603\u001b[0;31m                                                   chunked=chunked)\n\u001b[0m\u001b[1;32m    604\u001b[0m \u001b[0;34m\u001b[0m\u001b[0m\n",
      "\u001b[0;32m/Library/Frameworks/Python.framework/Versions/3.6/lib/python3.6/site-packages/urllib3/connectionpool.py\u001b[0m in \u001b[0;36m_make_request\u001b[0;34m(self, conn, method, url, timeout, chunked, **httplib_request_kw)\u001b[0m\n\u001b[1;32m    343\u001b[0m         \u001b[0;32mtry\u001b[0m\u001b[0;34m:\u001b[0m\u001b[0;34m\u001b[0m\u001b[0m\n\u001b[0;32m--> 344\u001b[0;31m             \u001b[0mself\u001b[0m\u001b[0;34m.\u001b[0m\u001b[0m_validate_conn\u001b[0m\u001b[0;34m(\u001b[0m\u001b[0mconn\u001b[0m\u001b[0;34m)\u001b[0m\u001b[0;34m\u001b[0m\u001b[0m\n\u001b[0m\u001b[1;32m    345\u001b[0m         \u001b[0;32mexcept\u001b[0m \u001b[0;34m(\u001b[0m\u001b[0mSocketTimeout\u001b[0m\u001b[0;34m,\u001b[0m \u001b[0mBaseSSLError\u001b[0m\u001b[0;34m)\u001b[0m \u001b[0;32mas\u001b[0m \u001b[0me\u001b[0m\u001b[0;34m:\u001b[0m\u001b[0;34m\u001b[0m\u001b[0m\n",
      "\u001b[0;32m/Library/Frameworks/Python.framework/Versions/3.6/lib/python3.6/site-packages/urllib3/connectionpool.py\u001b[0m in \u001b[0;36m_validate_conn\u001b[0;34m(self, conn)\u001b[0m\n\u001b[1;32m    842\u001b[0m         \u001b[0;32mif\u001b[0m \u001b[0;32mnot\u001b[0m \u001b[0mgetattr\u001b[0m\u001b[0;34m(\u001b[0m\u001b[0mconn\u001b[0m\u001b[0;34m,\u001b[0m \u001b[0;34m'sock'\u001b[0m\u001b[0;34m,\u001b[0m \u001b[0;32mNone\u001b[0m\u001b[0;34m)\u001b[0m\u001b[0;34m:\u001b[0m  \u001b[0;31m# AppEngine might not have  `.sock`\u001b[0m\u001b[0;34m\u001b[0m\u001b[0m\n\u001b[0;32m--> 843\u001b[0;31m             \u001b[0mconn\u001b[0m\u001b[0;34m.\u001b[0m\u001b[0mconnect\u001b[0m\u001b[0;34m(\u001b[0m\u001b[0;34m)\u001b[0m\u001b[0;34m\u001b[0m\u001b[0m\n\u001b[0m\u001b[1;32m    844\u001b[0m \u001b[0;34m\u001b[0m\u001b[0m\n",
      "\u001b[0;32m/Library/Frameworks/Python.framework/Versions/3.6/lib/python3.6/site-packages/urllib3/connection.py\u001b[0m in \u001b[0;36mconnect\u001b[0;34m(self)\u001b[0m\n\u001b[1;32m    315\u001b[0m         \u001b[0;31m# Add certificate verification\u001b[0m\u001b[0;34m\u001b[0m\u001b[0;34m\u001b[0m\u001b[0m\n\u001b[0;32m--> 316\u001b[0;31m         \u001b[0mconn\u001b[0m \u001b[0;34m=\u001b[0m \u001b[0mself\u001b[0m\u001b[0;34m.\u001b[0m\u001b[0m_new_conn\u001b[0m\u001b[0;34m(\u001b[0m\u001b[0;34m)\u001b[0m\u001b[0;34m\u001b[0m\u001b[0m\n\u001b[0m\u001b[1;32m    317\u001b[0m         \u001b[0mhostname\u001b[0m \u001b[0;34m=\u001b[0m \u001b[0mself\u001b[0m\u001b[0;34m.\u001b[0m\u001b[0mhost\u001b[0m\u001b[0;34m\u001b[0m\u001b[0m\n",
      "\u001b[0;32m/Library/Frameworks/Python.framework/Versions/3.6/lib/python3.6/site-packages/urllib3/connection.py\u001b[0m in \u001b[0;36m_new_conn\u001b[0;34m(self)\u001b[0m\n\u001b[1;32m    168\u001b[0m             raise NewConnectionError(\n\u001b[0;32m--> 169\u001b[0;31m                 self, \"Failed to establish a new connection: %s\" % e)\n\u001b[0m\u001b[1;32m    170\u001b[0m \u001b[0;34m\u001b[0m\u001b[0m\n",
      "\u001b[0;31mNewConnectionError\u001b[0m: <urllib3.connection.VerifiedHTTPSConnection object at 0x1152fe208>: Failed to establish a new connection: [Errno 8] nodename nor servname provided, or not known",
      "\nDuring handling of the above exception, another exception occurred:\n",
      "\u001b[0;31mMaxRetryError\u001b[0m                             Traceback (most recent call last)",
      "\u001b[0;32m/Library/Frameworks/Python.framework/Versions/3.6/lib/python3.6/site-packages/requests/adapters.py\u001b[0m in \u001b[0;36msend\u001b[0;34m(self, request, stream, timeout, verify, cert, proxies)\u001b[0m\n\u001b[1;32m    448\u001b[0m                     \u001b[0mretries\u001b[0m\u001b[0;34m=\u001b[0m\u001b[0mself\u001b[0m\u001b[0;34m.\u001b[0m\u001b[0mmax_retries\u001b[0m\u001b[0;34m,\u001b[0m\u001b[0;34m\u001b[0m\u001b[0m\n\u001b[0;32m--> 449\u001b[0;31m                     \u001b[0mtimeout\u001b[0m\u001b[0;34m=\u001b[0m\u001b[0mtimeout\u001b[0m\u001b[0;34m\u001b[0m\u001b[0m\n\u001b[0m\u001b[1;32m    450\u001b[0m                 )\n",
      "\u001b[0;32m/Library/Frameworks/Python.framework/Versions/3.6/lib/python3.6/site-packages/urllib3/connectionpool.py\u001b[0m in \u001b[0;36murlopen\u001b[0;34m(self, method, url, body, headers, retries, redirect, assert_same_host, timeout, pool_timeout, release_conn, chunked, body_pos, **response_kw)\u001b[0m\n\u001b[1;32m    640\u001b[0m             retries = retries.increment(method, url, error=e, _pool=self,\n\u001b[0;32m--> 641\u001b[0;31m                                         _stacktrace=sys.exc_info()[2])\n\u001b[0m\u001b[1;32m    642\u001b[0m             \u001b[0mretries\u001b[0m\u001b[0;34m.\u001b[0m\u001b[0msleep\u001b[0m\u001b[0;34m(\u001b[0m\u001b[0;34m)\u001b[0m\u001b[0;34m\u001b[0m\u001b[0m\n",
      "\u001b[0;32m/Library/Frameworks/Python.framework/Versions/3.6/lib/python3.6/site-packages/urllib3/util/retry.py\u001b[0m in \u001b[0;36mincrement\u001b[0;34m(self, method, url, response, error, _pool, _stacktrace)\u001b[0m\n\u001b[1;32m    398\u001b[0m         \u001b[0;32mif\u001b[0m \u001b[0mnew_retry\u001b[0m\u001b[0;34m.\u001b[0m\u001b[0mis_exhausted\u001b[0m\u001b[0;34m(\u001b[0m\u001b[0;34m)\u001b[0m\u001b[0;34m:\u001b[0m\u001b[0;34m\u001b[0m\u001b[0m\n\u001b[0;32m--> 399\u001b[0;31m             \u001b[0;32mraise\u001b[0m \u001b[0mMaxRetryError\u001b[0m\u001b[0;34m(\u001b[0m\u001b[0m_pool\u001b[0m\u001b[0;34m,\u001b[0m \u001b[0murl\u001b[0m\u001b[0;34m,\u001b[0m \u001b[0merror\u001b[0m \u001b[0;32mor\u001b[0m \u001b[0mResponseError\u001b[0m\u001b[0;34m(\u001b[0m\u001b[0mcause\u001b[0m\u001b[0;34m)\u001b[0m\u001b[0;34m)\u001b[0m\u001b[0;34m\u001b[0m\u001b[0m\n\u001b[0m\u001b[1;32m    400\u001b[0m \u001b[0;34m\u001b[0m\u001b[0m\n",
      "\u001b[0;31mMaxRetryError\u001b[0m: HTTPSConnectionPool(host='restapi.amap.com', port=443): Max retries exceeded with url: /v3/traffic/status/rectangle?key=634048389d7229b18f1cf1973378d207&rectangle=103.488,31.058;103.56099999999999,30.995&extensions=all (Caused by NewConnectionError('<urllib3.connection.VerifiedHTTPSConnection object at 0x1152fe208>: Failed to establish a new connection: [Errno 8] nodename nor servname provided, or not known',))",
      "\nDuring handling of the above exception, another exception occurred:\n",
      "\u001b[0;31mConnectionError\u001b[0m                           Traceback (most recent call last)",
      "\u001b[0;32m<ipython-input-46-cefeb36fc848>\u001b[0m in \u001b[0;36m<module>\u001b[0;34m\u001b[0m\n\u001b[1;32m     11\u001b[0m         \u001b[0;31m#print(url_param)\u001b[0m\u001b[0;34m\u001b[0m\u001b[0;34m\u001b[0m\u001b[0m\n\u001b[1;32m     12\u001b[0m         \u001b[0murl\u001b[0m \u001b[0;34m=\u001b[0m \u001b[0murl_pre\u001b[0m \u001b[0;34m+\u001b[0m \u001b[0murl_param\u001b[0m \u001b[0;34m+\u001b[0m \u001b[0murl_end\u001b[0m\u001b[0;34m\u001b[0m\u001b[0m\n\u001b[0;32m---> 13\u001b[0;31m         \u001b[0mdata\u001b[0m \u001b[0;34m=\u001b[0m \u001b[0mrequests\u001b[0m\u001b[0;34m.\u001b[0m\u001b[0mget\u001b[0m\u001b[0;34m(\u001b[0m\u001b[0murl\u001b[0m\u001b[0;34m)\u001b[0m\u001b[0;34m\u001b[0m\u001b[0m\n\u001b[0m\u001b[1;32m     14\u001b[0m         \u001b[0mdata_json\u001b[0m \u001b[0;34m=\u001b[0m \u001b[0mdata\u001b[0m\u001b[0;34m.\u001b[0m\u001b[0mjson\u001b[0m\u001b[0;34m(\u001b[0m\u001b[0;34m)\u001b[0m\u001b[0;34m\u001b[0m\u001b[0m\n\u001b[1;32m     15\u001b[0m         \u001b[0mcounter\u001b[0m \u001b[0;34m+=\u001b[0m \u001b[0;36m1\u001b[0m\u001b[0;34m\u001b[0m\u001b[0m\n",
      "\u001b[0;32m/Library/Frameworks/Python.framework/Versions/3.6/lib/python3.6/site-packages/requests/api.py\u001b[0m in \u001b[0;36mget\u001b[0;34m(url, params, **kwargs)\u001b[0m\n\u001b[1;32m     73\u001b[0m \u001b[0;34m\u001b[0m\u001b[0m\n\u001b[1;32m     74\u001b[0m     \u001b[0mkwargs\u001b[0m\u001b[0;34m.\u001b[0m\u001b[0msetdefault\u001b[0m\u001b[0;34m(\u001b[0m\u001b[0;34m'allow_redirects'\u001b[0m\u001b[0;34m,\u001b[0m \u001b[0;32mTrue\u001b[0m\u001b[0;34m)\u001b[0m\u001b[0;34m\u001b[0m\u001b[0m\n\u001b[0;32m---> 75\u001b[0;31m     \u001b[0;32mreturn\u001b[0m \u001b[0mrequest\u001b[0m\u001b[0;34m(\u001b[0m\u001b[0;34m'get'\u001b[0m\u001b[0;34m,\u001b[0m \u001b[0murl\u001b[0m\u001b[0;34m,\u001b[0m \u001b[0mparams\u001b[0m\u001b[0;34m=\u001b[0m\u001b[0mparams\u001b[0m\u001b[0;34m,\u001b[0m \u001b[0;34m**\u001b[0m\u001b[0mkwargs\u001b[0m\u001b[0;34m)\u001b[0m\u001b[0;34m\u001b[0m\u001b[0m\n\u001b[0m\u001b[1;32m     76\u001b[0m \u001b[0;34m\u001b[0m\u001b[0m\n\u001b[1;32m     77\u001b[0m \u001b[0;34m\u001b[0m\u001b[0m\n",
      "\u001b[0;32m/Library/Frameworks/Python.framework/Versions/3.6/lib/python3.6/site-packages/requests/api.py\u001b[0m in \u001b[0;36mrequest\u001b[0;34m(method, url, **kwargs)\u001b[0m\n\u001b[1;32m     58\u001b[0m     \u001b[0;31m# cases, and look like a memory leak in others.\u001b[0m\u001b[0;34m\u001b[0m\u001b[0;34m\u001b[0m\u001b[0m\n\u001b[1;32m     59\u001b[0m     \u001b[0;32mwith\u001b[0m \u001b[0msessions\u001b[0m\u001b[0;34m.\u001b[0m\u001b[0mSession\u001b[0m\u001b[0;34m(\u001b[0m\u001b[0;34m)\u001b[0m \u001b[0;32mas\u001b[0m \u001b[0msession\u001b[0m\u001b[0;34m:\u001b[0m\u001b[0;34m\u001b[0m\u001b[0m\n\u001b[0;32m---> 60\u001b[0;31m         \u001b[0;32mreturn\u001b[0m \u001b[0msession\u001b[0m\u001b[0;34m.\u001b[0m\u001b[0mrequest\u001b[0m\u001b[0;34m(\u001b[0m\u001b[0mmethod\u001b[0m\u001b[0;34m=\u001b[0m\u001b[0mmethod\u001b[0m\u001b[0;34m,\u001b[0m \u001b[0murl\u001b[0m\u001b[0;34m=\u001b[0m\u001b[0murl\u001b[0m\u001b[0;34m,\u001b[0m \u001b[0;34m**\u001b[0m\u001b[0mkwargs\u001b[0m\u001b[0;34m)\u001b[0m\u001b[0;34m\u001b[0m\u001b[0m\n\u001b[0m\u001b[1;32m     61\u001b[0m \u001b[0;34m\u001b[0m\u001b[0m\n\u001b[1;32m     62\u001b[0m \u001b[0;34m\u001b[0m\u001b[0m\n",
      "\u001b[0;32m/Library/Frameworks/Python.framework/Versions/3.6/lib/python3.6/site-packages/requests/sessions.py\u001b[0m in \u001b[0;36mrequest\u001b[0;34m(self, method, url, params, data, headers, cookies, files, auth, timeout, allow_redirects, proxies, hooks, stream, verify, cert, json)\u001b[0m\n\u001b[1;32m    531\u001b[0m         }\n\u001b[1;32m    532\u001b[0m         \u001b[0msend_kwargs\u001b[0m\u001b[0;34m.\u001b[0m\u001b[0mupdate\u001b[0m\u001b[0;34m(\u001b[0m\u001b[0msettings\u001b[0m\u001b[0;34m)\u001b[0m\u001b[0;34m\u001b[0m\u001b[0m\n\u001b[0;32m--> 533\u001b[0;31m         \u001b[0mresp\u001b[0m \u001b[0;34m=\u001b[0m \u001b[0mself\u001b[0m\u001b[0;34m.\u001b[0m\u001b[0msend\u001b[0m\u001b[0;34m(\u001b[0m\u001b[0mprep\u001b[0m\u001b[0;34m,\u001b[0m \u001b[0;34m**\u001b[0m\u001b[0msend_kwargs\u001b[0m\u001b[0;34m)\u001b[0m\u001b[0;34m\u001b[0m\u001b[0m\n\u001b[0m\u001b[1;32m    534\u001b[0m \u001b[0;34m\u001b[0m\u001b[0m\n\u001b[1;32m    535\u001b[0m         \u001b[0;32mreturn\u001b[0m \u001b[0mresp\u001b[0m\u001b[0;34m\u001b[0m\u001b[0m\n",
      "\u001b[0;32m/Library/Frameworks/Python.framework/Versions/3.6/lib/python3.6/site-packages/requests/sessions.py\u001b[0m in \u001b[0;36msend\u001b[0;34m(self, request, **kwargs)\u001b[0m\n\u001b[1;32m    644\u001b[0m \u001b[0;34m\u001b[0m\u001b[0m\n\u001b[1;32m    645\u001b[0m         \u001b[0;31m# Send the request\u001b[0m\u001b[0;34m\u001b[0m\u001b[0;34m\u001b[0m\u001b[0m\n\u001b[0;32m--> 646\u001b[0;31m         \u001b[0mr\u001b[0m \u001b[0;34m=\u001b[0m \u001b[0madapter\u001b[0m\u001b[0;34m.\u001b[0m\u001b[0msend\u001b[0m\u001b[0;34m(\u001b[0m\u001b[0mrequest\u001b[0m\u001b[0;34m,\u001b[0m \u001b[0;34m**\u001b[0m\u001b[0mkwargs\u001b[0m\u001b[0;34m)\u001b[0m\u001b[0;34m\u001b[0m\u001b[0m\n\u001b[0m\u001b[1;32m    647\u001b[0m \u001b[0;34m\u001b[0m\u001b[0m\n\u001b[1;32m    648\u001b[0m         \u001b[0;31m# Total elapsed time of the request (approximately)\u001b[0m\u001b[0;34m\u001b[0m\u001b[0;34m\u001b[0m\u001b[0m\n",
      "\u001b[0;32m/Library/Frameworks/Python.framework/Versions/3.6/lib/python3.6/site-packages/requests/adapters.py\u001b[0m in \u001b[0;36msend\u001b[0;34m(self, request, stream, timeout, verify, cert, proxies)\u001b[0m\n\u001b[1;32m    514\u001b[0m                 \u001b[0;32mraise\u001b[0m \u001b[0mSSLError\u001b[0m\u001b[0;34m(\u001b[0m\u001b[0me\u001b[0m\u001b[0;34m,\u001b[0m \u001b[0mrequest\u001b[0m\u001b[0;34m=\u001b[0m\u001b[0mrequest\u001b[0m\u001b[0;34m)\u001b[0m\u001b[0;34m\u001b[0m\u001b[0m\n\u001b[1;32m    515\u001b[0m \u001b[0;34m\u001b[0m\u001b[0m\n\u001b[0;32m--> 516\u001b[0;31m             \u001b[0;32mraise\u001b[0m \u001b[0mConnectionError\u001b[0m\u001b[0;34m(\u001b[0m\u001b[0me\u001b[0m\u001b[0;34m,\u001b[0m \u001b[0mrequest\u001b[0m\u001b[0;34m=\u001b[0m\u001b[0mrequest\u001b[0m\u001b[0;34m)\u001b[0m\u001b[0;34m\u001b[0m\u001b[0m\n\u001b[0m\u001b[1;32m    517\u001b[0m \u001b[0;34m\u001b[0m\u001b[0m\n\u001b[1;32m    518\u001b[0m         \u001b[0;32mexcept\u001b[0m \u001b[0mClosedPoolError\u001b[0m \u001b[0;32mas\u001b[0m \u001b[0me\u001b[0m\u001b[0;34m:\u001b[0m\u001b[0;34m\u001b[0m\u001b[0m\n",
      "\u001b[0;31mConnectionError\u001b[0m: HTTPSConnectionPool(host='restapi.amap.com', port=443): Max retries exceeded with url: /v3/traffic/status/rectangle?key=634048389d7229b18f1cf1973378d207&rectangle=103.488,31.058;103.56099999999999,30.995&extensions=all (Caused by NewConnectionError('<urllib3.connection.VerifiedHTTPSConnection object at 0x1152fe208>: Failed to establish a new connection: [Errno 8] nodename nor servname provided, or not known',))"
     ]
    }
   ],
   "source": [
    "# send request to Gaode API\n",
    "url_pre = 'https://restapi.amap.com/v3/traffic/status/rectangle?key=634048389d7229b18f1cf1973378d207&rectangle='\n",
    "url_end = '&extensions=all'\n",
    "res = []\n",
    "counter = 0\n",
    "success_counter = 0\n",
    "for i in range(13):\n",
    "    for j in range(16):\n",
    "        print('attempts: ' + str(counter), end='\\r')\n",
    "        url_param = str(coords[i][j][0]) + ',' + str(coords[i][j][1]) + ';' + str(coords[i+1][j+1][0]) + ',' + str(coords[i+1][j+1][1])\n",
    "        #print(url_param)\n",
    "        url = url_pre + url_param + url_end\n",
    "        data = requests.get(url)\n",
    "        data_json = data.json()\n",
    "        counter += 1\n",
    "        if data_json['status'] == '1':\n",
    "            success_counter += 1\n",
    "            res.append({'data': data_json, \n",
    "                        'time': time.strftime(\"%Y-%m-%d %a %H:%M:%S\"), \n",
    "                        'start_lng': coords[i][j][0], \n",
    "                        'start_lat': coords[i][j][1],\n",
    "                        'end_lng': coords[i+1][j+1][0],\n",
    "                        'end_lat': coords[i+1][j+1][1]})\n",
    "            print('get area: ' + str(success_counter), end='\\r')\n",
    "            \n",
    "            \n",
    "        #try:\n",
    "            #status.append(data_json['evaluation']['status'])\n",
    "            #status_desc.append(data_json['evaluation']['status_desc'])\n",
    "            #times.append(strftime(\"%Y-%m-%d %H:%M:%S\", gmtime()))\n",
    "            #roads.append(road)\n",
    "\n",
    "        #except:\n",
    "          #  print('road: ' + str(road) + ' not found')\n",
    "print('Successfully got areas: ' + str(counter))            "
   ]
  },
  {
   "cell_type": "markdown",
   "metadata": {},
   "source": [
    "##### Proccess Resulted Data"
   ]
  },
  {
   "cell_type": "code",
   "execution_count": 31,
   "metadata": {},
   "outputs": [],
   "source": [
    "# Data storages\n",
    "road_name = []\n",
    "road_coords = []\n",
    "road_dir = []\n",
    "road_angle = []\n",
    "road_status = []\n",
    "road_speed = []\n",
    "start_lng = []\n",
    "start_lat = []\n",
    "end_lng = []\n",
    "end_lat = []\n",
    "times = []\n",
    "data_attrs = [road_name,road_coords,road_dir,road_angle,road_status,road_speed,start_lng,start_lat,end_lng,end_lat,times,]\n",
    "\n",
    "# area storage\n",
    "area_status = []\n",
    "area_start_lng = []\n",
    "area_start_lat = []\n",
    "area_end_lng = []\n",
    "area_end_lat = []\n",
    "area_time = []\n",
    "area_number = []\n",
    "counter = 0\n",
    "\n",
    "for results in res:\n",
    "    roads = results['data']['trafficinfo']['roads']\n",
    "    for road in roads:\n",
    "        try:\n",
    "            road_name.append(road['name'])\n",
    "        except:\n",
    "            road_name.append('N/A')\n",
    "        try:\n",
    "            road_coords.append(road['polyline'])\n",
    "        except:\n",
    "            road_coords.append('N/A')\n",
    "        try:\n",
    "            road_dir.append(road['direction'])\n",
    "        except:\n",
    "            road_dir.append('N/A')\n",
    "        try:\n",
    "            road_angle.append(road['angle'])\n",
    "        except:\n",
    "            road_angle.append('N/A')\n",
    "        try:\n",
    "            road_status.append(road['status'])\n",
    "        except:\n",
    "            road_status.append('N/A')\n",
    "        try:\n",
    "            road_speed.append(road['speed'])\n",
    "        except:\n",
    "            road_speed.append('N/A')\n",
    "        times.append(results['time'])\n",
    "        start_lng.append(results['start_lng'])\n",
    "        start_lat.append(results['start_lat'])\n",
    "        end_lng.append(results['end_lng'])\n",
    "        end_lat.append(results['end_lat'])\n",
    "\n",
    "    area_number.append(counter)\n",
    "    counter += 1\n",
    "    area_status.append(results['data']['status'])\n",
    "    area_start_lng.append(results['start_lng'])\n",
    "    area_start_lat.append(results['start_lat'])\n",
    "    area_end_lng.append(results['end_lng'])\n",
    "    area_end_lat.append(results['end_lat'])\n",
    "    area_time.append(results['time'])\n",
    "    \n",
    "\n",
    "df = pd.DataFrame({\n",
    "    'name' : road_name,\n",
    "    'start_lng': start_lng,\n",
    "    'start_lat': start_lat,\n",
    "    'end_lng': end_lng,\n",
    "    'end_lat': end_lat,\n",
    "    'coords' : road_coords,\n",
    "    'dir': road_dir,\n",
    "    'angle': road_angle,\n",
    "    'status': road_status,\n",
    "    'speed':road_speed,\n",
    "    'time': times\n",
    "})\n",
    "\n",
    "df_area = pd.DataFrame({\n",
    "    'area_number': area_number,\n",
    "    'start_lng': area_start_lng,\n",
    "    'start_lat': area_start_lat,\n",
    "    'end_lng': area_end_lng,\n",
    "    'end_lat': area_end_lat,\n",
    "    'status': area_status,\n",
    "    'time' : area_time\n",
    "})\n"
   ]
  },
  {
   "cell_type": "code",
   "execution_count": 32,
   "metadata": {},
   "outputs": [],
   "source": [
    "df_area.to_csv('Data/Area_Info.csv', mode = 'a', index = False, header=False, encoding = 'utf-8-sig')\n",
    "df.to_csv('Raw_Data/Api_Return_Data.csv', mode = 'a', index = False, header=False, encoding = 'utf-8-sig')"
   ]
  },
  {
   "cell_type": "markdown",
   "metadata": {},
   "source": [
    "### Drop Duplicates and Merge Road Name\n",
    "Dropping those data that does not have a crowdness level and those who has the same road name and direction description."
   ]
  },
  {
   "cell_type": "code",
   "execution_count": 33,
   "metadata": {},
   "outputs": [],
   "source": [
    "df_data = pd.read_csv('traffic_data.csv')\n",
    "\n",
    "df_data['identifier'] = df_data['name'] + df_data['dir']\n",
    "df_road_ori = df_data.drop_duplicates(subset = 'identifier')\n",
    "\n",
    "# Drop the rows where no traffic status is gathered\n",
    "indexNames = df_data[ df_data['status'] == 0 ].index\n",
    "df_data.drop(indexNames , inplace=True)\n",
    "\n",
    "df_road_ori.to_csv('Data/Road_Ori_Traffic_Data.csv', mode = 'a', header=False, encoding = 'utf-8-sig', index = False)"
   ]
  },
  {
   "cell_type": "markdown",
   "metadata": {},
   "source": [
    "## Extract Coordinates of Roads in Block\n",
    "The data proccesing proccess requies a lot of calculations that does not requires a lot of memory. Therefore, a multithreading approach is taken\n",
    "\n",
    "\n",
    "#### Data Pre-Proccessing\n",
    "pre-proccess the data to suffice the mutithreading purpose. \n",
    "\n",
    "Proccess of pre-proccessing:\n",
    " - seperate the rows in dataframe that is sent to different thread\n",
    "\n",
    "coords_result = pd.DataFrame(columns=['lng', 'lat', 'road_name', 'status', 'angle'])"
   ]
  },
  {
   "cell_type": "markdown",
   "metadata": {},
   "source": [
    "#### Road's Data Points Extraction Method"
   ]
  },
  {
   "cell_type": "code",
   "execution_count": 34,
   "metadata": {},
   "outputs": [],
   "source": [
    "def seperate_rows(num_of_thread, data_frame):\n",
    "    to_op_list = []\n",
    "    size = data_frame.shape[0]\n",
    "    op_per_thread = int(size / num_of_thread)\n",
    "    # Get the first n-1 thread op\n",
    "    for i in range(num_of_thread - 1):\n",
    "        df_to_op = data_frame[op_per_thread * i: op_per_thread * (i+1)]\n",
    "        to_op_list.append(df_to_op)\n",
    "    # The last thread handles everything\n",
    "    df_last = data_frame[op_per_thread * (i+1): size]\n",
    "    to_op_list.append(df_last)\n",
    "    return to_op_list"
   ]
  },
  {
   "cell_type": "code",
   "execution_count": 37,
   "metadata": {},
   "outputs": [],
   "source": [
    "# Inputs:\n",
    "#    pandas DataFrame that contains the information of roads in each block.\n",
    "# Functionalities:\n",
    "#    Extract data from the dataframe.\n",
    "# Outputs:\n",
    "#    A pandas DataFrame that contains information of each point in a specific area \n",
    "#    with its status and angle and road name.\n",
    "def coords_to_dict(df):\n",
    "    # Create an empty data_frame\n",
    "    result_df = pd.DataFrame(columns=['lng', 'lat', 'road_name', 'status', 'angle'])\n",
    "    print('The totol rows is: ' + str(df.shape[0]))\n",
    "    counter = 0\n",
    "    for row in df.iterrows():\n",
    "        print('attempting:' + str (counter), end = '\\r')\n",
    "\n",
    "        road_data = row[1]\n",
    "        start_lng = road_data['start_lng']\n",
    "        start_lat = road_data['start_lat']\n",
    "        end_lng = road_data['end_lng']\n",
    "        end_lat = road_data['end_lat']\n",
    "        coords_list = road_data['coords'].split(';')\n",
    "\n",
    "        for i in range(len(coords_list)):\n",
    "            lng = float(coords_list[i].split(',')[0])\n",
    "            lat = float(coords_list[i].split(',')[1])\n",
    "\n",
    "            # Check if the coord is in the range of its corresponding area\n",
    "            if ((start_lng < lng < end_lng) and (start_lat > lat > end_lat)):\n",
    "\n",
    "                result = {'lng': lng, \n",
    "                          'lat': lat, \n",
    "                          'road_name': road_data['name'], \n",
    "                          'status': road_data['status'], \n",
    "                          'angle' : road_data['angle']\n",
    "                         }\n",
    "                result_df = result_df.append(result, ignore_index = True)\n",
    "            i += 2\n",
    "        counter += 1\n",
    "    return result_df"
   ]
  },
  {
   "cell_type": "code",
   "execution_count": 4,
   "metadata": {},
   "outputs": [],
   "source": [
    "# Functionalities (not used):\n",
    "#    append a dataframe to a dataframe out side in the whole scope which results in coords -> status relationship\n",
    "class dataProccessThread(threading.Thread):\n",
    "    # Input: \n",
    "    #   counter: the threadID\n",
    "    #   df:      the whole pandas DataFrame that contains a number of blocks' roads data\n",
    "    # Functionalities: \n",
    "    #   init the thread\n",
    "    def __init__(self, counter, df, coords_result):\n",
    "        # super\n",
    "        threading.Thread.__init__(self)\n",
    "        # init the thread's id\n",
    "        self.threadID = counter\n",
    "        self.data_frame = df\n",
    "        self.data_coords = df['coords']\n",
    "        self.start_lngs = df['start_lng']\n",
    "        self.start_lats = df['start_lat']\n",
    "        self.end_lngs = df['end_lng']\n",
    "        self.end_lats = df['end_lat']\n",
    "        self.coords_result = coords_result\n",
    "        print('Thread ' + str(self.threadID) + ' start')\n",
    "        \n",
    "    def run(self):\n",
    "        # the original road oriented df to point oriented df\n",
    "        coords_df = coords_to_dict(self.data_frame)\n",
    "        threadLock.acquire()\n",
    "        self.coords_result = self.coords_result.append(coords_df)\n",
    "        print('Thread ' + str(self.threadID) + ' end')\n",
    "        threadLock.release()"
   ]
  },
  {
   "cell_type": "code",
   "execution_count": 38,
   "metadata": {
    "scrolled": true
   },
   "outputs": [
    {
     "name": "stdout",
     "output_type": "stream",
     "text": [
      "The totol rows is: 2544\n",
      "(28397, 5):2543\n",
      "Program Ends\n"
     ]
    }
   ],
   "source": [
    "coords_result = pd.DataFrame(columns=['lng', 'lat', 'road_name', 'status', 'angle'])\n",
    "coords_df = coords_to_dict(df_road_ori)\n",
    "print(coords_df.shape)\n",
    "\n",
    "\n",
    "coords_df.to_csv('Data/Coords_Ori_Traffic_Data.csv', mode = 'a', header = False, index = False, encoding = 'utf-8-sig')\n",
    "print('Program Ends')"
   ]
  },
  {
   "cell_type": "code",
   "execution_count": 20,
   "metadata": {},
   "outputs": [
    {
     "name": "stdout",
     "output_type": "stream",
     "text": [
      "false try\n"
     ]
    }
   ],
   "source": [
    "### Attempting Mutithreading Failed (Missing half of the data)\n",
    "'''\n",
    "coords_result = pd.DataFrame(columns=['lng', 'lat', 'road_name', 'status', 'angle'])\n",
    "df_road_ori = pd.read_csv('traffic_data_without_no_data.csv')\n",
    "\n",
    "print(df_road_ori.shape)\n",
    "result = seperate_rows(16, df_road_ori)\n",
    "print(len(result))\n",
    "\n",
    "# Init the thread list and prepare the threadLock\n",
    "threads = []\n",
    "threadLock = threading.Lock()\n",
    "\n",
    "# Create four threads\n",
    "for i in range(0, 10):\n",
    "    thread = dataProccessThread(i, result[i], coords_result)\n",
    "    threads.append(thread)\n",
    "\n",
    "# start each thread\n",
    "for thread in threads:\n",
    "    thread.start()\n",
    "\n",
    "# Wait for all threads to complete\n",
    "for thread in threads:\n",
    "    coords_result = coords_result.append(thread.coords_result)\n",
    "    thread.join()\n",
    "\n",
    "print(\"\\nFinish Proccess All Threads\")\n",
    "print(coords_result.shape)\n",
    "\n",
    "coords_result.to_csv('coords_oriented_traffic_data.csv', index = False, encoding = 'utf-8-sig')\n",
    "'''\n",
    "print('false try')"
   ]
  }
 ],
 "metadata": {
  "kernelspec": {
   "display_name": "Python 3",
   "language": "python",
   "name": "python3"
  },
  "language_info": {
   "codemirror_mode": {
    "name": "ipython",
    "version": 3
   },
   "file_extension": ".py",
   "mimetype": "text/x-python",
   "name": "python",
   "nbconvert_exporter": "python",
   "pygments_lexer": "ipython3",
   "version": "3.6.1"
  }
 },
 "nbformat": 4,
 "nbformat_minor": 2
}
