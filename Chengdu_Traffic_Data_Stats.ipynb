{
 "cells": [
  {
   "cell_type": "code",
   "execution_count": 16,
   "metadata": {},
   "outputs": [],
   "source": [
    "# imports for system basis\n",
    "import datetime\n",
    "import csv\n",
    "import sys\n",
    "from math import radians, cos, sin, asin, sqrt, degrees\n",
    "import time\n",
    "from time import gmtime\n",
    "from time import strftime\n",
    "import random\n",
    "import threading\n",
    "\n",
    "# imports for web cralwers\n",
    "import requests\n",
    "from selenium import webdriver\n",
    "import requests\n",
    "from bs4 import BeautifulSoup\n",
    "\n",
    "# imports for data proccessing\n",
    "import numpy as np\n",
    "import pandas as pd\n",
    "import json"
   ]
  },
  {
   "cell_type": "markdown",
   "metadata": {},
   "source": [
    "#### Change Longitude and Latitude Functions\n",
    "inputs:\n",
    "        `dist = distance bettwen to points, coord_0 = (lng_0, lat_0)`\n",
    "\n",
    "outputs:\n",
    "        `coord_1 = (lng_1, lat_1)`"
   ]
  },
  {
   "cell_type": "code",
   "execution_count": 37,
   "metadata": {},
   "outputs": [],
   "source": [
    "# Radius of Earth\n",
    "R = 6371 * 1000\n",
    "# dist = distance bettwen to points\n",
    "# coord_0 = (lng_0, lat_0)\n",
    "# return = coord_1\n",
    "def lng_coord(dist, coord_0):\n",
    "    lng_0, lat_0 = map(radians, [float(coord_0[0]), float(coord_0[1])])\n",
    "    dist = dist * 1000\n",
    "    a = sin(dist / (2*R))**2\n",
    "    dlng = asin( sqrt( a / cos(lat_0)**2 ) ) * 2\n",
    "    # Convert from radians to carticien \n",
    "    dlng = round(degrees(dlng), 3)\n",
    "    coord_1 = (coord_0[0] + dlng, coord_0[1])\n",
    "    return coord_1\n",
    "\n",
    "\n",
    "def lat_coord(dist, coord_0):\n",
    "    lng_0, lat_0 = map(radians, [float(coord_0[0]), float(coord_0[1])])\n",
    "    dist = dist * 1000\n",
    "    a = sin(dist / (2*R))**2\n",
    "    dlat = asin( sqrt(a) ) * 2\n",
    "    # Convert from radians to carticien \n",
    "    dlat = round (degrees(dlat), 3)\n",
    "    coord_1 = (coord_0[0], coord_0[1] - dlat)\n",
    "    return coord_1"
   ]
  },
  {
   "cell_type": "markdown",
   "metadata": {},
   "source": [
    "### Divides Chengdu as Different Cells\n",
    "chengdu's total area is aproximates to 1.4w km^2, however, the center area (those worth to Investigate) is about 17(7km) * 12(7km) = 204 cells to be the input to gaode for road traffic data.\n",
    "\n",
    "The start coord is (103.488，31.058)."
   ]
  },
  {
   "cell_type": "markdown",
   "metadata": {},
   "source": [
    "#### Extract road\n",
    "`print(res[0]['trafficinfo']['roads'][0]['name'])`\n",
    "#### Extract sstart and end points of a road\n",
    "`print(res[0]['trafficinfo']['roads'][0]['polyline'][:21])`\n",
    "`print(res[0]['trafficinfo']['roads'][0]['polyline'][-21:])`\n",
    "#### Extract direction\n",
    "`print(res[0]['trafficinfo']['roads'][0]['direction'])`\n",
    "#### Extract direaction\n",
    "`print(res[0]['trafficinfo']['roads'][0]['angle'])`\n",
    "#### Flow amount\n",
    "`print(res[0]['trafficinfo']['roads'][0]['status'])`\n",
    "#### Speed\n",
    "`print(res[0]['trafficinfo']['roads'][0]['speed'])`"
   ]
  },
  {
   "cell_type": "code",
   "execution_count": 36,
   "metadata": {},
   "outputs": [
    {
     "data": {
      "text/plain": [
       "31.058"
      ]
     },
     "execution_count": 36,
     "metadata": {},
     "output_type": "execute_result"
    }
   ],
   "source": [
    "# Store all the coordinates of the vertices of points to search\n",
    "coords =[[(103.488, 31.058)]]\n",
    "\n",
    "coords[0][0][1]"
   ]
  },
  {
   "cell_type": "code",
   "execution_count": 160,
   "metadata": {},
   "outputs": [
    {
     "name": "stdout",
     "output_type": "stream",
     "text": [
      "103.488,31.058;103.56099999999999,30.995\n"
     ]
    }
   ],
   "source": [
    "# Change of rows (langitude)\n",
    "for i in range(14):\n",
    "    # Change of columns (latitude)\n",
    "    for j in range(17):\n",
    "        coords_right = lat_coord(7.0, coords[i][j])\n",
    "        coords[i].append(coords_right)\n",
    "    if i == 13:\n",
    "        break\n",
    "    coords_down = lng_coord(7.0, coords[i][0])\n",
    "    coords.append([coords_down])\n",
    "url_param = str(coords[0][0][0]) + ',' + str(coords[0][0][1]) + ';' + str(coords[0+1][0+1][0]) + ',' + str(coords[0+1][0+1][1])\n",
    "print(url_param)\n"
   ]
  },
  {
   "cell_type": "code",
   "execution_count": 191,
   "metadata": {},
   "outputs": [
    {
     "name": "stdout",
     "output_type": "stream",
     "text": [
      "Successfully got areas: 208\n"
     ]
    }
   ],
   "source": [
    "# send request to Gaode API\n",
    "url_pre = 'https://restapi.amap.com/v3/traffic/status/rectangle?key=634048389d7229b18f1cf1973378d207&rectangle='\n",
    "url_end = '&extensions=all'\n",
    "res = []\n",
    "counter = 0\n",
    "success_counter = 0\n",
    "for i in range(13):\n",
    "    for j in range(16):\n",
    "        print('attempts: ' + str(counter), end='\\r')\n",
    "        url_param = str(coords[i][j][0]) + ',' + str(coords[i][j][1]) + ';' + str(coords[i+1][j+1][0]) + ',' + str(coords[i+1][j+1][1])\n",
    "        #print(url_param)\n",
    "        url = url_pre + url_param + url_end\n",
    "        data = requests.get(url)\n",
    "        data_json = data.json()\n",
    "        counter += 1\n",
    "        if data_json['status'] == '1':\n",
    "            success_counter += 1\n",
    "            res.append({'data': data_json, \n",
    "                        'time': time.strftime(\"%Y-%m-%d %a %H:%M:%S\"), \n",
    "                        'start_lng': coords[i][j][0], \n",
    "                        'start_lat': coords[i][j][1],\n",
    "                        'end_lng': coords[i+1][j+1][0],\n",
    "                        'end_lat': coords[i+1][j+1][1]})\n",
    "            print('get area: ' + str(success_counter), end='\\r')\n",
    "            \n",
    "            \n",
    "        #try:\n",
    "            #status.append(data_json['evaluation']['status'])\n",
    "            #status_desc.append(data_json['evaluation']['status_desc'])\n",
    "            #times.append(strftime(\"%Y-%m-%d %H:%M:%S\", gmtime()))\n",
    "            #roads.append(road)\n",
    "\n",
    "        #except:\n",
    "          #  print('road: ' + str(road) + ' not found')\n",
    "print('Successfully got areas: ' + str(counter))            "
   ]
  },
  {
   "cell_type": "markdown",
   "metadata": {},
   "source": [
    "##### Proccess Resulted Data"
   ]
  },
  {
   "cell_type": "code",
   "execution_count": 196,
   "metadata": {},
   "outputs": [],
   "source": [
    "# Data storages\n",
    "road_name = []\n",
    "road_coords = []\n",
    "road_dir = []\n",
    "road_angle = []\n",
    "road_status = []\n",
    "road_speed = []\n",
    "start_lng = []\n",
    "start_lat = []\n",
    "end_lng = []\n",
    "end_lat = []\n",
    "times = []\n",
    "data_attrs = [road_name,road_coords,road_dir,road_angle,road_status,road_speed,start_lng,start_lat,end_lng,end_lat,times,]\n",
    "\n",
    "# area storage\n",
    "area_status = []\n",
    "area_start_lng = []\n",
    "area_start_lat = []\n",
    "area_end_lng = []\n",
    "area_end_lat = []\n",
    "area_time = []\n",
    "area_number = []\n",
    "counter = 0\n",
    "\n",
    "for results in res:\n",
    "    roads = results['data']['trafficinfo']['roads']\n",
    "    for road in roads:\n",
    "        try:\n",
    "            road_name.append(road['name'])\n",
    "        except:\n",
    "            road_name.append('N/A')\n",
    "        try:\n",
    "            road_coords.append(road['polyline'])\n",
    "        except:\n",
    "            road_coords.append('N/A')\n",
    "        try:\n",
    "            road_dir.append(road['direction'])\n",
    "        except:\n",
    "            road_dir.append('N/A')\n",
    "        try:\n",
    "            road_angle.append(road['angle'])\n",
    "        except:\n",
    "            road_angle.append('N/A')\n",
    "        try:\n",
    "            road_status.append(road['status'])\n",
    "        except:\n",
    "            road_status.append('N/A')\n",
    "        try:\n",
    "            road_speed.append(road['speed'])\n",
    "        except:\n",
    "            road_speed.append('N/A')\n",
    "        times.append(results['time'])\n",
    "        start_lng.append(results['start_lng'])\n",
    "        start_lat.append(results['start_lat'])\n",
    "        end_lng.append(results['end_lng'])\n",
    "        end_lat.append(results['end_lat'])\n",
    "\n",
    "    area_number.append(counter)\n",
    "    counter += 1\n",
    "    area_status.append(results['data'])\n",
    "    area_start_lng.append(results['start_lng'])\n",
    "    area_start_lat.append(results['start_lat'])\n",
    "    area_end_lng.append(results['end_lng'])\n",
    "    area_end_lat.append(results['end_lat'])\n",
    "    area_time.append(results['time'])\n",
    "    \n",
    "\n",
    "df = pd.DataFrame({\n",
    "    'name' : road_name,\n",
    "    'start_lng': start_lng,\n",
    "    'start_lat': start_lat,\n",
    "    'end_lng': end_lng,\n",
    "    'end_lat': end_lat,\n",
    "    'coords' : road_coords,\n",
    "    'dir': road_dir,\n",
    "    'angle': road_angle,\n",
    "    'status': road_status,\n",
    "    'speed':road_speed,\n",
    "    'time': times\n",
    "})\n",
    "\n",
    "df_area = pd.DataFrame({\n",
    "    'area_number': area_number,\n",
    "    'start_lng': area_start_lng,\n",
    "    'start_lat': area_start_lat,\n",
    "    'end_lng': area_end_lng,\n",
    "    'end_lat': area_end_lat,\n",
    "    'status': area_status,\n",
    "    'time' : area_time\n",
    "})\n"
   ]
  },
  {
   "cell_type": "code",
   "execution_count": 198,
   "metadata": {},
   "outputs": [],
   "source": [
    "df.to_csv('traffic_data.csv', index = False, encoding = 'utf-8-sig')\n",
    "df_area.to_csv('traffic_area_data.csv', index = False, encoding = 'utf-8-sig')"
   ]
  },
  {
   "cell_type": "markdown",
   "metadata": {},
   "source": [
    "### Drop Duplicates and Merge Road Name\n",
    "After Exam the data pattern, it turns out that the road that Gaode returns are in complete form"
   ]
  },
  {
   "cell_type": "code",
   "execution_count": 199,
   "metadata": {},
   "outputs": [
    {
     "name": "stdout",
     "output_type": "stream",
     "text": [
      "   name  start_lng  start_lat  end_lng  end_lat  \\\n",
      "0  都汶高速    103.488     31.058  103.561   30.995   \n",
      "\n",
      "                                              coords                   dir  \\\n",
      "0  103.679863,30.9504356;103.679482,30.9507599;10...  从成灌高速出入口到龙溪隧道（成都市边界）   \n",
      "\n",
      "   angle  status  speed                     time  \n",
      "0    144       1   75.0  2019-08-21 Wed 16:56:06  \n",
      "[0, 1, 12, 13, 16, 17, 36, 37]\n"
     ]
    }
   ],
   "source": [
    "df_data = pd.read_csv('traffic_data.csv')\n",
    "print(df_data.head(1))\n",
    "name_to_search = '都汶高速'\n",
    "name_time = []\n",
    "counter = 0\n",
    "for name in df_data['name']:\n",
    "    if name == name_to_search:\n",
    "        name_time.append(counter)\n",
    "    counter+=1\n",
    "print(name_time)"
   ]
  },
  {
   "cell_type": "code",
   "execution_count": 237,
   "metadata": {},
   "outputs": [],
   "source": [
    "df_data['identifier'] = df_data['name'] + df_data['dir']\n",
    "df_complete = df_data.drop_duplicates(subset = 'identifier')\n",
    "\n",
    "\n",
    "# Drop the rows where no traffic status is gathered\n",
    "indexNames = df_data[ df_data['status'] == 0 ].index\n",
    "df_data.drop(indexNames , inplace=True)\n",
    "\n",
    "df_complete.to_csv('traffic_data_without_no_data.csv', encoding = 'utf-8-sig', index = False)"
   ]
  },
  {
   "cell_type": "markdown",
   "metadata": {},
   "source": [
    "## Extract Coordinates of Roads in Block\n",
    "The data proccesing proccess requies a lot of calculations that does not requires a lot of memory. Therefore, a multithreading approach is taken\n",
    "\n",
    "\n",
    "#### Data Pre-Proccessing\n",
    "pre-proccess the data to suffice the mutithreading purpose. \n",
    "\n",
    "Proccess of pre-proccessing:\n",
    " - seperate the rows in dataframe that is sent to different thread\n",
    "\n",
    "coords_result = pd.DataFrame(columns=['lng', 'lat', 'road_name', 'status', 'angle'])"
   ]
  },
  {
   "cell_type": "markdown",
   "metadata": {},
   "source": [
    "#### Road's Data Points Extraction Method"
   ]
  },
  {
   "cell_type": "code",
   "execution_count": 27,
   "metadata": {},
   "outputs": [],
   "source": [
    "def seperate_rows(num_of_thread, data_frame):\n",
    "    to_op_list = []\n",
    "    size = data_frame.shape[0]\n",
    "    op_per_thread = int(size / num_of_thread)\n",
    "    # Get the first n-1 thread op\n",
    "    for i in range(num_of_thread - 1):\n",
    "        df_to_op = data_frame[op_per_thread * i: op_per_thread * (i+1)]\n",
    "        to_op_list.append(df_to_op)\n",
    "    # The last thread handles everything\n",
    "    df_last = data_frame[op_per_thread * (i+1): size]\n",
    "    to_op_list.append(df_last)\n",
    "    return to_op_list"
   ]
  },
  {
   "cell_type": "code",
   "execution_count": 21,
   "metadata": {},
   "outputs": [],
   "source": [
    "# Inputs:\n",
    "#    pandas DataFrame that contains the information of roads in each block.\n",
    "# Functionalities:\n",
    "#    Extract data from the dataframe.\n",
    "# Outputs:\n",
    "#    A pandas DataFrame that contains information of each point in a specific area \n",
    "#    with its status and angle and road name.\n",
    "def coords_to_dict(df):\n",
    "    # Create an empty data_frame\n",
    "    result_df = pd.DataFrame(columns=['lng', 'lat', 'road_name', 'status', 'angle'])\n",
    "    print('The totol rows is: ' + str(df.shape[0]))\n",
    "    counter = 0\n",
    "    for row in df.iterrows():\n",
    "        #print('attempting:' + str (counter), end = '\\r')\n",
    "\n",
    "        road_data = row[1]\n",
    "        start_lng = road_data['start_lng']\n",
    "        start_lat = road_data['start_lat']\n",
    "        end_lng = road_data['end_lng']\n",
    "        end_lat = road_data['end_lat']\n",
    "        coords_list = road_data['coords'].split(';')\n",
    "\n",
    "        for i in range(len(coords_list)):\n",
    "            lng = float(coords_list[i].split(',')[0])\n",
    "            lat = float(coords_list[i].split(',')[1])\n",
    "\n",
    "            # Check if the coord is in the range of its corresponding area\n",
    "            if ((start_lng < lng < end_lng) and (start_lat > lat > end_lat)):\n",
    "\n",
    "                result = {'lng': lng, \n",
    "                          'lat': lat, \n",
    "                          'road_name': road_data['name'], \n",
    "                          'status': road_data['status'], \n",
    "                          'angle' : road_data['angle']\n",
    "                         }\n",
    "                result_df = result_df.append(result, ignore_index = True)\n",
    "            i += 2\n",
    "        counter += 1\n",
    "    return result_df"
   ]
  },
  {
   "cell_type": "code",
   "execution_count": 18,
   "metadata": {},
   "outputs": [],
   "source": [
    "# Functionalities:\n",
    "#    append a dataframe to a dataframe out side in the whole scope which results in coords -> status relationship\n",
    "class dataProccessThread(threading.Thread):\n",
    "    # Input: \n",
    "    #   counter: the threadID\n",
    "    #   df:      the whole pandas DataFrame that contains a number of blocks' roads data\n",
    "    # Functionalities: \n",
    "    #   init the thread\n",
    "    def __init__(self, counter, df, coords_result):\n",
    "        # super\n",
    "        threading.Thread.__init__(self)\n",
    "        # init the thread's id\n",
    "        self.threadID = counter\n",
    "        self.data_frame = df\n",
    "        self.data_coords = df['coords']\n",
    "        self.start_lngs = df['start_lng']\n",
    "        self.start_lats = df['start_lat']\n",
    "        self.end_lngs = df['end_lng']\n",
    "        self.end_lats = df['end_lat']\n",
    "        self.coords_result = coords_result\n",
    "        print('Thread ' + str(self.threadID) + ' start')\n",
    "        \n",
    "    def run(self):\n",
    "        # the original road oriented df to point oriented df\n",
    "        coords_df = coords_to_dict(self.data_frame)\n",
    "        threadLock.acquire()\n",
    "        self.coords_result = self.coords_result.append(coords_df)\n",
    "        print('Thread ' + str(self.threadID) + ' end')\n",
    "        threadLock.release()"
   ]
  },
  {
   "cell_type": "code",
   "execution_count": 36,
   "metadata": {},
   "outputs": [
    {
     "name": "stdout",
     "output_type": "stream",
     "text": [
      "(2346, 12)\n",
      "10\n",
      "Thread 0start\n",
      "Thread 1start\n",
      "Thread 2start\n",
      "Thread 3start\n",
      "Thread 4start\n",
      "Thread 5start\n",
      "Thread 6start\n",
      "Thread 7start\n",
      "Thread 8start\n",
      "Thread 9start\n",
      "The totol rows is: 234\n",
      "The totol rows is: 234\n",
      "The totol rows is: 234\n",
      "The totol rows is: 234\n",
      "The totol rows is: 234\n",
      "The totol rows is: 234\n",
      "The totol rows is: 234\n",
      "The totol rows is: 234\n",
      "The totol rows is: 234The totol rows is: 240\n",
      "\n",
      "Thread 8end\n",
      "Thread 4end\n",
      "Thread 5end\n",
      "Thread 3end\n",
      "Thread 7end\n",
      "Thread 2end\n",
      "Thread 1end\n",
      "Thread 6end\n",
      "Thread 0end\n",
      "Thread 9end\n",
      "\n",
      "Finish Proccess All Threads\n",
      "(19895, 5)\n"
     ]
    }
   ],
   "source": [
    "coords_result = pd.DataFrame(columns=['lng', 'lat', 'road_name', 'status', 'angle'])\n",
    "df_road_ori = pd.read_csv('traffic_data_without_no_data.csv')\n",
    "\n",
    "print(df_road_ori.shape)\n",
    "result = seperate_rows(10, df_road_ori)\n",
    "print(len(result))\n",
    "\n",
    "# Init the thread list and prepare the threadLock\n",
    "threads = []\n",
    "threadLock = threading.Lock()\n",
    "\n",
    "# Create four threads\n",
    "for i in range(0, 10):\n",
    "    thread = dataProccessThread(i, result[i], coords_result)\n",
    "    threads.append(thread)\n",
    "'''\n",
    "thread0 = dataProccessThread(0, result[0], coords_result)\n",
    "thread1 = dataProccessThread(1, result[1], coords_result)\n",
    "thread2 = dataProccessThread(2, result[2], coords_result)\n",
    "thread3 = dataProccessThread(3, result[3], coords_result)\n",
    "'''\n",
    "'''\n",
    "# Append the threads\n",
    "threads.append(thread0)\n",
    "threads.append(thread1)\n",
    "threads.append(thread2)\n",
    "threads.append(thread3)\n",
    "'''\n",
    "# start each thread\n",
    "for thread in threads:\n",
    "    thread.start()\n",
    "\n",
    "# Wait for all threads to complete\n",
    "for thread in threads:\n",
    "    coords_result = coords_result.append(thread.coords_result)\n",
    "    thread.join()\n",
    "\n",
    "print(\"\\nFinish Proccess All Threads\")\n",
    "print(coords_result.shape)"
   ]
  },
  {
   "cell_type": "code",
   "execution_count": null,
   "metadata": {},
   "outputs": [],
   "source": [
    "coords_result.to_csv"
   ]
  }
 ],
 "metadata": {
  "kernelspec": {
   "display_name": "Python 3",
   "language": "python",
   "name": "python3"
  },
  "language_info": {
   "codemirror_mode": {
    "name": "ipython",
    "version": 3
   },
   "file_extension": ".py",
   "mimetype": "text/x-python",
   "name": "python",
   "nbconvert_exporter": "python",
   "pygments_lexer": "ipython3",
   "version": "3.6.1"
  }
 },
 "nbformat": 4,
 "nbformat_minor": 2
}
